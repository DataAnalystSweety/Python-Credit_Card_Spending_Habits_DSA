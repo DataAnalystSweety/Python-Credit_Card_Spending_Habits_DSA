{
 "cells": [
  {
   "cell_type": "markdown",
   "id": "da440c89",
   "metadata": {
    "papermill": {
     "duration": 0.018952,
     "end_time": "2023-09-06T11:51:05.040638",
     "exception": false,
     "start_time": "2023-09-06T11:51:05.021686",
     "status": "completed"
    },
    "tags": []
   },
   "source": [
    "# <h1 style=\"color: blue; text-align:center; background-color: #dddddd; border: 1px solid black; padding: 10px;font-size: 26px;\">Credit Card Spending Habits </h1>"
   ]
  },
  {
   "cell_type": "markdown",
   "id": "8cb5d460",
   "metadata": {
    "papermill": {
     "duration": 0.014952,
     "end_time": "2023-09-06T11:51:05.071197",
     "exception": false,
     "start_time": "2023-09-06T11:51:05.056245",
     "status": "completed"
    },
    "tags": []
   },
   "source": [
    "# About \n",
    "\n",
    "About this file :\n",
    "\n",
    "This dataset contains insights into credit card transactions made in India, offering a comprehensive look at the spending habits of Indians across the nation\n",
    "\n",
    "* City: The city in which the transaction took place. (String)\n",
    "* Date: The date of the transaction. (Date)\n",
    "* Card Type: The type of credit card used for the transaction. (String)\n",
    "* Exp Type: The type of expense associated with the transaction. (String)\n",
    "* Gender: The gender of the cardholder. (String)\n",
    "* Amount: The amount of the transaction. (Number)"
   ]
  },
  {
   "cell_type": "markdown",
   "id": "b04673f7",
   "metadata": {
    "papermill": {
     "duration": 0.014335,
     "end_time": "2023-09-06T11:51:05.102638",
     "exception": false,
     "start_time": "2023-09-06T11:51:05.088303",
     "status": "completed"
    },
    "tags": []
   },
   "source": [
    "## Importing necessary libraries\n"
   ]
  },
  {
   "cell_type": "code",
   "execution_count": 1,
   "id": "08b48001",
   "metadata": {
    "execution": {
     "iopub.execute_input": "2023-09-06T11:51:05.134550Z",
     "iopub.status.busy": "2023-09-06T11:51:05.134019Z",
     "iopub.status.idle": "2023-09-06T11:51:06.745628Z",
     "shell.execute_reply": "2023-09-06T11:51:06.744315Z"
    },
    "papermill": {
     "duration": 1.631117,
     "end_time": "2023-09-06T11:51:06.748631",
     "exception": false,
     "start_time": "2023-09-06T11:51:05.117514",
     "status": "completed"
    },
    "tags": []
   },
   "outputs": [
    {
     "name": "stderr",
     "output_type": "stream",
     "text": [
      "/opt/conda/lib/python3.10/site-packages/scipy/__init__.py:146: UserWarning: A NumPy version >=1.16.5 and <1.23.0 is required for this version of SciPy (detected version 1.23.5\n",
      "  warnings.warn(f\"A NumPy version >={np_minversion} and <{np_maxversion}\"\n"
     ]
    }
   ],
   "source": [
    "import pandas as pd\n",
    "import numpy as np\n",
    "import matplotlib\n",
    "import matplotlib.pyplot as plt\n",
    "import seaborn as sns\n",
    "sns.set(style=\"darkgrid\")\n",
    "pd.options.display.max_columns=50"
   ]
  },
  {
   "cell_type": "markdown",
   "id": "6802a87d",
   "metadata": {
    "papermill": {
     "duration": 0.013944,
     "end_time": "2023-09-06T11:51:06.777056",
     "exception": false,
     "start_time": "2023-09-06T11:51:06.763112",
     "status": "completed"
    },
    "tags": []
   },
   "source": [
    "## Importing Data Set\n"
   ]
  },
  {
   "cell_type": "code",
   "execution_count": 2,
   "id": "8e800d2c",
   "metadata": {
    "execution": {
     "iopub.execute_input": "2023-09-06T11:51:06.807670Z",
     "iopub.status.busy": "2023-09-06T11:51:06.807296Z",
     "iopub.status.idle": "2023-09-06T11:51:06.917217Z",
     "shell.execute_reply": "2023-09-06T11:51:06.916336Z"
    },
    "papermill": {
     "duration": 0.128521,
     "end_time": "2023-09-06T11:51:06.920122",
     "exception": false,
     "start_time": "2023-09-06T11:51:06.791601",
     "status": "completed"
    },
    "tags": []
   },
   "outputs": [
    {
     "data": {
      "text/html": [
       "<div>\n",
       "<style scoped>\n",
       "    .dataframe tbody tr th:only-of-type {\n",
       "        vertical-align: middle;\n",
       "    }\n",
       "\n",
       "    .dataframe tbody tr th {\n",
       "        vertical-align: top;\n",
       "    }\n",
       "\n",
       "    .dataframe thead th {\n",
       "        text-align: right;\n",
       "    }\n",
       "</style>\n",
       "<table border=\"1\" class=\"dataframe\">\n",
       "  <thead>\n",
       "    <tr style=\"text-align: right;\">\n",
       "      <th></th>\n",
       "      <th>City</th>\n",
       "      <th>Date</th>\n",
       "      <th>Card Type</th>\n",
       "      <th>Exp Type</th>\n",
       "      <th>Gender</th>\n",
       "      <th>Amount</th>\n",
       "    </tr>\n",
       "    <tr>\n",
       "      <th>index</th>\n",
       "      <th></th>\n",
       "      <th></th>\n",
       "      <th></th>\n",
       "      <th></th>\n",
       "      <th></th>\n",
       "      <th></th>\n",
       "    </tr>\n",
       "  </thead>\n",
       "  <tbody>\n",
       "    <tr>\n",
       "      <th>0</th>\n",
       "      <td>Delhi, India</td>\n",
       "      <td>29-Oct-14</td>\n",
       "      <td>Gold</td>\n",
       "      <td>Bills</td>\n",
       "      <td>F</td>\n",
       "      <td>82475</td>\n",
       "    </tr>\n",
       "    <tr>\n",
       "      <th>1</th>\n",
       "      <td>Greater Mumbai, India</td>\n",
       "      <td>22-Aug-14</td>\n",
       "      <td>Platinum</td>\n",
       "      <td>Bills</td>\n",
       "      <td>F</td>\n",
       "      <td>32555</td>\n",
       "    </tr>\n",
       "    <tr>\n",
       "      <th>2</th>\n",
       "      <td>Bengaluru, India</td>\n",
       "      <td>27-Aug-14</td>\n",
       "      <td>Silver</td>\n",
       "      <td>Bills</td>\n",
       "      <td>F</td>\n",
       "      <td>101738</td>\n",
       "    </tr>\n",
       "    <tr>\n",
       "      <th>3</th>\n",
       "      <td>Greater Mumbai, India</td>\n",
       "      <td>12-Apr-14</td>\n",
       "      <td>Signature</td>\n",
       "      <td>Bills</td>\n",
       "      <td>F</td>\n",
       "      <td>123424</td>\n",
       "    </tr>\n",
       "    <tr>\n",
       "      <th>4</th>\n",
       "      <td>Bengaluru, India</td>\n",
       "      <td>5-May-15</td>\n",
       "      <td>Gold</td>\n",
       "      <td>Bills</td>\n",
       "      <td>F</td>\n",
       "      <td>171574</td>\n",
       "    </tr>\n",
       "    <tr>\n",
       "      <th>...</th>\n",
       "      <td>...</td>\n",
       "      <td>...</td>\n",
       "      <td>...</td>\n",
       "      <td>...</td>\n",
       "      <td>...</td>\n",
       "      <td>...</td>\n",
       "    </tr>\n",
       "    <tr>\n",
       "      <th>26047</th>\n",
       "      <td>Kolkata, India</td>\n",
       "      <td>22-Jun-14</td>\n",
       "      <td>Silver</td>\n",
       "      <td>Travel</td>\n",
       "      <td>F</td>\n",
       "      <td>128191</td>\n",
       "    </tr>\n",
       "    <tr>\n",
       "      <th>26048</th>\n",
       "      <td>Pune, India</td>\n",
       "      <td>3-Aug-14</td>\n",
       "      <td>Signature</td>\n",
       "      <td>Travel</td>\n",
       "      <td>M</td>\n",
       "      <td>246316</td>\n",
       "    </tr>\n",
       "    <tr>\n",
       "      <th>26049</th>\n",
       "      <td>Hyderabad, India</td>\n",
       "      <td>16-Jan-15</td>\n",
       "      <td>Silver</td>\n",
       "      <td>Travel</td>\n",
       "      <td>M</td>\n",
       "      <td>265019</td>\n",
       "    </tr>\n",
       "    <tr>\n",
       "      <th>26050</th>\n",
       "      <td>Kanpur, India</td>\n",
       "      <td>14-Sep-14</td>\n",
       "      <td>Silver</td>\n",
       "      <td>Travel</td>\n",
       "      <td>M</td>\n",
       "      <td>88174</td>\n",
       "    </tr>\n",
       "    <tr>\n",
       "      <th>26051</th>\n",
       "      <td>Hyderabad, India</td>\n",
       "      <td>19-Oct-13</td>\n",
       "      <td>Signature</td>\n",
       "      <td>Bills</td>\n",
       "      <td>M</td>\n",
       "      <td>184410</td>\n",
       "    </tr>\n",
       "  </tbody>\n",
       "</table>\n",
       "<p>26052 rows × 6 columns</p>\n",
       "</div>"
      ],
      "text/plain": [
       "                        City       Date  Card Type Exp Type Gender  Amount\n",
       "index                                                                     \n",
       "0               Delhi, India  29-Oct-14       Gold    Bills      F   82475\n",
       "1      Greater Mumbai, India  22-Aug-14   Platinum    Bills      F   32555\n",
       "2           Bengaluru, India  27-Aug-14     Silver    Bills      F  101738\n",
       "3      Greater Mumbai, India  12-Apr-14  Signature    Bills      F  123424\n",
       "4           Bengaluru, India   5-May-15       Gold    Bills      F  171574\n",
       "...                      ...        ...        ...      ...    ...     ...\n",
       "26047         Kolkata, India  22-Jun-14     Silver   Travel      F  128191\n",
       "26048            Pune, India   3-Aug-14  Signature   Travel      M  246316\n",
       "26049       Hyderabad, India  16-Jan-15     Silver   Travel      M  265019\n",
       "26050          Kanpur, India  14-Sep-14     Silver   Travel      M   88174\n",
       "26051       Hyderabad, India  19-Oct-13  Signature    Bills      M  184410\n",
       "\n",
       "[26052 rows x 6 columns]"
      ]
     },
     "execution_count": 2,
     "metadata": {},
     "output_type": "execute_result"
    }
   ],
   "source": [
    "df=pd.read_csv(\"/kaggle/input/analyzing-credit-card-spending-habits-in-india/Credit card transactions - India - Simple.csv\", index_col='index')\n",
    "df"
   ]
  },
  {
   "cell_type": "markdown",
   "id": "66ba01be",
   "metadata": {
    "papermill": {
     "duration": 0.015125,
     "end_time": "2023-09-06T11:51:06.951056",
     "exception": false,
     "start_time": "2023-09-06T11:51:06.935931",
     "status": "completed"
    },
    "tags": []
   },
   "source": [
    "## Workflow\n",
    "* Understanding the data\n",
    "* Data cleaning\n",
    "* Exploratory Data Analysis\n",
    "* Insights "
   ]
  },
  {
   "cell_type": "markdown",
   "id": "e27d9535",
   "metadata": {
    "papermill": {
     "duration": 0.014861,
     "end_time": "2023-09-06T11:51:06.981434",
     "exception": false,
     "start_time": "2023-09-06T11:51:06.966573",
     "status": "completed"
    },
    "tags": []
   },
   "source": [
    "# <h1 style=\"color: black; text-align:center; background-color: #dddddd; border: 1px solid black; padding: 10px;font-size: 36px;\">Understanding the data </h1>"
   ]
  },
  {
   "cell_type": "markdown",
   "id": "ac00a903",
   "metadata": {
    "papermill": {
     "duration": 0.01724,
     "end_time": "2023-09-06T11:51:07.014688",
     "exception": false,
     "start_time": "2023-09-06T11:51:06.997448",
     "status": "completed"
    },
    "tags": []
   },
   "source": [
    "# **Shape of the data**"
   ]
  },
  {
   "cell_type": "code",
   "execution_count": 3,
   "id": "e1f39b55",
   "metadata": {
    "execution": {
     "iopub.execute_input": "2023-09-06T11:51:07.052281Z",
     "iopub.status.busy": "2023-09-06T11:51:07.051092Z",
     "iopub.status.idle": "2023-09-06T11:51:07.060372Z",
     "shell.execute_reply": "2023-09-06T11:51:07.058858Z"
    },
    "papermill": {
     "duration": 0.033422,
     "end_time": "2023-09-06T11:51:07.064130",
     "exception": false,
     "start_time": "2023-09-06T11:51:07.030708",
     "status": "completed"
    },
    "tags": []
   },
   "outputs": [
    {
     "data": {
      "text/plain": [
       "(26052, 6)"
      ]
     },
     "execution_count": 3,
     "metadata": {},
     "output_type": "execute_result"
    }
   ],
   "source": [
    "df.shape"
   ]
  },
  {
   "cell_type": "markdown",
   "id": "43ca84fd",
   "metadata": {
    "papermill": {
     "duration": 0.015787,
     "end_time": "2023-09-06T11:51:07.096140",
     "exception": false,
     "start_time": "2023-09-06T11:51:07.080353",
     "status": "completed"
    },
    "tags": []
   },
   "source": [
    "# **Information of the data**\n",
    "**But what does the columns mean and what is it used for?**"
   ]
  },
  {
   "cell_type": "code",
   "execution_count": 4,
   "id": "b6ac8c72",
   "metadata": {
    "execution": {
     "iopub.execute_input": "2023-09-06T11:51:07.130081Z",
     "iopub.status.busy": "2023-09-06T11:51:07.129581Z",
     "iopub.status.idle": "2023-09-06T11:51:07.202025Z",
     "shell.execute_reply": "2023-09-06T11:51:07.200097Z"
    },
    "papermill": {
     "duration": 0.092702,
     "end_time": "2023-09-06T11:51:07.205033",
     "exception": false,
     "start_time": "2023-09-06T11:51:07.112331",
     "status": "completed"
    },
    "tags": []
   },
   "outputs": [
    {
     "name": "stdout",
     "output_type": "stream",
     "text": [
      "<class 'pandas.core.frame.DataFrame'>\n",
      "Int64Index: 26052 entries, 0 to 26051\n",
      "Data columns (total 6 columns):\n",
      " #   Column     Non-Null Count  Dtype \n",
      "---  ------     --------------  ----- \n",
      " 0   City       26052 non-null  object\n",
      " 1   Date       26052 non-null  object\n",
      " 2   Card Type  26052 non-null  object\n",
      " 3   Exp Type   26052 non-null  object\n",
      " 4   Gender     26052 non-null  object\n",
      " 5   Amount     26052 non-null  int64 \n",
      "dtypes: int64(1), object(5)\n",
      "memory usage: 1.4+ MB\n"
     ]
    }
   ],
   "source": [
    "df.info()"
   ]
  },
  {
   "cell_type": "markdown",
   "id": "b7b9c876",
   "metadata": {
    "papermill": {
     "duration": 0.014438,
     "end_time": "2023-09-06T11:51:07.234567",
     "exception": false,
     "start_time": "2023-09-06T11:51:07.220129",
     "status": "completed"
    },
    "tags": []
   },
   "source": [
    "**Insights:\n",
    "1. Date column must be in Datetime Datatype.\n",
    "2. No Null values in any columns.\n"
   ]
  },
  {
   "cell_type": "markdown",
   "id": "dd484318",
   "metadata": {
    "papermill": {
     "duration": 0.014506,
     "end_time": "2023-09-06T11:51:07.263895",
     "exception": false,
     "start_time": "2023-09-06T11:51:07.249389",
     "status": "completed"
    },
    "tags": []
   },
   "source": [
    "# **Check duplicate Values**"
   ]
  },
  {
   "cell_type": "code",
   "execution_count": 5,
   "id": "aa07927b",
   "metadata": {
    "execution": {
     "iopub.execute_input": "2023-09-06T11:51:07.295635Z",
     "iopub.status.busy": "2023-09-06T11:51:07.295181Z",
     "iopub.status.idle": "2023-09-06T11:51:07.323208Z",
     "shell.execute_reply": "2023-09-06T11:51:07.321896Z"
    },
    "papermill": {
     "duration": 0.047167,
     "end_time": "2023-09-06T11:51:07.325844",
     "exception": false,
     "start_time": "2023-09-06T11:51:07.278677",
     "status": "completed"
    },
    "tags": []
   },
   "outputs": [
    {
     "data": {
      "text/plain": [
       "0"
      ]
     },
     "execution_count": 5,
     "metadata": {},
     "output_type": "execute_result"
    }
   ],
   "source": [
    "df.duplicated().sum()"
   ]
  },
  {
   "cell_type": "markdown",
   "id": "756f8a4b",
   "metadata": {
    "papermill": {
     "duration": 0.014788,
     "end_time": "2023-09-06T11:51:07.356072",
     "exception": false,
     "start_time": "2023-09-06T11:51:07.341284",
     "status": "completed"
    },
    "tags": []
   },
   "source": [
    "# <h1 style=\"color: black; text-align:center; background-color: #dddddd; border: 1px solid black; padding: 10px;font-size: 36px;\">Data Cleaning </h1>"
   ]
  },
  {
   "cell_type": "markdown",
   "id": "e5072b47",
   "metadata": {
    "papermill": {
     "duration": 0.014873,
     "end_time": "2023-09-06T11:51:07.386286",
     "exception": false,
     "start_time": "2023-09-06T11:51:07.371413",
     "status": "completed"
    },
    "tags": []
   },
   "source": [
    "# ** Object to Date datatype Conversion**"
   ]
  },
  {
   "cell_type": "code",
   "execution_count": 6,
   "id": "14c014de",
   "metadata": {
    "execution": {
     "iopub.execute_input": "2023-09-06T11:51:07.418378Z",
     "iopub.status.busy": "2023-09-06T11:51:07.417999Z",
     "iopub.status.idle": "2023-09-06T11:51:07.489416Z",
     "shell.execute_reply": "2023-09-06T11:51:07.487885Z"
    },
    "papermill": {
     "duration": 0.090647,
     "end_time": "2023-09-06T11:51:07.492083",
     "exception": false,
     "start_time": "2023-09-06T11:51:07.401436",
     "status": "completed"
    },
    "tags": []
   },
   "outputs": [
    {
     "data": {
      "text/plain": [
       "City                 object\n",
       "Date         datetime64[ns]\n",
       "Card Type            object\n",
       "Exp Type             object\n",
       "Gender               object\n",
       "Amount                int64\n",
       "dtype: object"
      ]
     },
     "execution_count": 6,
     "metadata": {},
     "output_type": "execute_result"
    }
   ],
   "source": [
    "df[\"Date\"]=pd.to_datetime(df[\"Date\"])\n",
    "df.dtypes\n"
   ]
  },
  {
   "cell_type": "markdown",
   "id": "236f2d2b",
   "metadata": {
    "papermill": {
     "duration": 0.014808,
     "end_time": "2023-09-06T11:51:07.522385",
     "exception": false,
     "start_time": "2023-09-06T11:51:07.507577",
     "status": "completed"
    },
    "tags": []
   },
   "source": [
    "**Q1. Which card type is most popular. Represent through piechart**"
   ]
  },
  {
   "cell_type": "code",
   "execution_count": 7,
   "id": "6b85e87e",
   "metadata": {
    "execution": {
     "iopub.execute_input": "2023-09-06T11:51:07.554985Z",
     "iopub.status.busy": "2023-09-06T11:51:07.554522Z",
     "iopub.status.idle": "2023-09-06T11:51:07.569503Z",
     "shell.execute_reply": "2023-09-06T11:51:07.568057Z"
    },
    "papermill": {
     "duration": 0.034469,
     "end_time": "2023-09-06T11:51:07.572220",
     "exception": false,
     "start_time": "2023-09-06T11:51:07.537751",
     "status": "completed"
    },
    "tags": []
   },
   "outputs": [
    {
     "data": {
      "text/plain": [
       "Silver       6840\n",
       "Signature    6447\n",
       "Platinum     6398\n",
       "Gold         6367\n",
       "Name: Card Type, dtype: int64"
      ]
     },
     "execution_count": 7,
     "metadata": {},
     "output_type": "execute_result"
    }
   ],
   "source": [
    "\n",
    "m_card =df[\"Card Type\"].value_counts()\n",
    "m_card\n",
    "\n"
   ]
  },
  {
   "cell_type": "code",
   "execution_count": 8,
   "id": "62c073d7",
   "metadata": {
    "execution": {
     "iopub.execute_input": "2023-09-06T11:51:07.606000Z",
     "iopub.status.busy": "2023-09-06T11:51:07.605480Z",
     "iopub.status.idle": "2023-09-06T11:51:07.939610Z",
     "shell.execute_reply": "2023-09-06T11:51:07.937926Z"
    },
    "papermill": {
     "duration": 0.357273,
     "end_time": "2023-09-06T11:51:07.944917",
     "exception": false,
     "start_time": "2023-09-06T11:51:07.587644",
     "status": "completed"
    },
    "tags": []
   },
   "outputs": [
    {
     "data": {
      "image/png": "[encoded data removed]",
      "text/plain": [
       "<Figure size 600x600 with 1 Axes>"
      ]
     },
     "metadata": {},
     "output_type": "display_data"
    }
   ],
   "source": [
    "plt.figure(figsize=(6,6))\n",
    "l=[\"Silver\",\"Signature\",\"Platinum\",\"Gold\"]\n",
    "plt.pie(m_card,labels=l,shadow=True,autopct=\"%0.0f%%\",textprops={'fontsize': 20},wedgeprops={\"width\":0.8})\n",
    "plt.show()"
   ]
  },
  {
   "cell_type": "markdown",
   "id": "eb8184a6",
   "metadata": {
    "papermill": {
     "duration": 0.015998,
     "end_time": "2023-09-06T11:51:07.978968",
     "exception": false,
     "start_time": "2023-09-06T11:51:07.962970",
     "status": "completed"
    },
    "tags": []
   },
   "source": [
    "**Answer: Silver card type is the most popular.**"
   ]
  },
  {
   "cell_type": "markdown",
   "id": "a1f8eae3",
   "metadata": {
    "papermill": {
     "duration": 0.018467,
     "end_time": "2023-09-06T11:51:08.013653",
     "exception": false,
     "start_time": "2023-09-06T11:51:07.995186",
     "status": "completed"
    },
    "tags": []
   },
   "source": [
    "**Q2. Which expense type is most popular. Represent through graph**"
   ]
  },
  {
   "cell_type": "code",
   "execution_count": 9,
   "id": "b86553fb",
   "metadata": {
    "execution": {
     "iopub.execute_input": "2023-09-06T11:51:08.050744Z",
     "iopub.status.busy": "2023-09-06T11:51:08.049722Z",
     "iopub.status.idle": "2023-09-06T11:51:08.066034Z",
     "shell.execute_reply": "2023-09-06T11:51:08.064624Z"
    },
    "papermill": {
     "duration": 0.038739,
     "end_time": "2023-09-06T11:51:08.068840",
     "exception": false,
     "start_time": "2023-09-06T11:51:08.030101",
     "status": "completed"
    },
    "tags": []
   },
   "outputs": [
    {
     "data": {
      "text/plain": [
       "Food             5463\n",
       "Fuel             5257\n",
       "Bills            5078\n",
       "Entertainment    4762\n",
       "Grocery          4754\n",
       "Travel            738\n",
       "Name: Exp Type, dtype: int64"
      ]
     },
     "execution_count": 9,
     "metadata": {},
     "output_type": "execute_result"
    }
   ],
   "source": [
    "m_exp = df['Exp Type'].value_counts()\n",
    "m_exp\n"
   ]
  },
  {
   "cell_type": "code",
   "execution_count": 10,
   "id": "2ab7c780",
   "metadata": {
    "execution": {
     "iopub.execute_input": "2023-09-06T11:51:08.104597Z",
     "iopub.status.busy": "2023-09-06T11:51:08.104085Z",
     "iopub.status.idle": "2023-09-06T11:51:08.431294Z",
     "shell.execute_reply": "2023-09-06T11:51:08.429719Z"
    },
    "papermill": {
     "duration": 0.34873,
     "end_time": "2023-09-06T11:51:08.434237",
     "exception": false,
     "start_time": "2023-09-06T11:51:08.085507",
     "status": "completed"
    },
    "tags": []
   },
   "outputs": [
    {
     "data": {
      "image/png": "[encoded data removed]",
      "text/plain": [
       "<Figure size 800x600 with 1 Axes>"
      ]
     },
     "metadata": {},
     "output_type": "display_data"
    }
   ],
   "source": [
    "plt.figure(figsize=(8,6))\n",
    "sns.countplot(x =\"Exp Type\",data=df,edgecolor=\"black\")\n",
    "plt.show()"
   ]
  },
  {
   "cell_type": "markdown",
   "id": "aa5778f8",
   "metadata": {
    "papermill": {
     "duration": 0.017919,
     "end_time": "2023-09-06T11:51:08.469599",
     "exception": false,
     "start_time": "2023-09-06T11:51:08.451680",
     "status": "completed"
    },
    "tags": []
   },
   "source": [
    "**Answer: Food Expense type is the most popular.**"
   ]
  },
  {
   "cell_type": "markdown",
   "id": "67aa03a9",
   "metadata": {
    "papermill": {
     "duration": 0.018839,
     "end_time": "2023-09-06T11:51:08.506281",
     "exception": false,
     "start_time": "2023-09-06T11:51:08.487442",
     "status": "completed"
    },
    "tags": []
   },
   "source": [
    "**Q3. Which gender spend more in Credit Card? Show through piechart.**"
   ]
  },
  {
   "cell_type": "code",
   "execution_count": 11,
   "id": "00104be3",
   "metadata": {
    "execution": {
     "iopub.execute_input": "2023-09-06T11:51:08.544247Z",
     "iopub.status.busy": "2023-09-06T11:51:08.543729Z",
     "iopub.status.idle": "2023-09-06T11:51:08.560152Z",
     "shell.execute_reply": "2023-09-06T11:51:08.558627Z"
    },
    "papermill": {
     "duration": 0.038859,
     "end_time": "2023-09-06T11:51:08.563067",
     "exception": false,
     "start_time": "2023-09-06T11:51:08.524208",
     "status": "completed"
    },
    "tags": []
   },
   "outputs": [
    {
     "data": {
      "text/plain": [
       "F    13680\n",
       "M    12372\n",
       "Name: Gender, dtype: int64"
      ]
     },
     "execution_count": 11,
     "metadata": {},
     "output_type": "execute_result"
    }
   ],
   "source": [
    "m_gen = df[\"Gender\"].value_counts()\n",
    "m_gen"
   ]
  },
  {
   "cell_type": "code",
   "execution_count": 12,
   "id": "098ef541",
   "metadata": {
    "execution": {
     "iopub.execute_input": "2023-09-06T11:51:08.602337Z",
     "iopub.status.busy": "2023-09-06T11:51:08.601886Z",
     "iopub.status.idle": "2023-09-06T11:51:08.797710Z",
     "shell.execute_reply": "2023-09-06T11:51:08.796300Z"
    },
    "papermill": {
     "duration": 0.220269,
     "end_time": "2023-09-06T11:51:08.801869",
     "exception": false,
     "start_time": "2023-09-06T11:51:08.581600",
     "status": "completed"
    },
    "tags": []
   },
   "outputs": [
    {
     "data": {
      "image/png": "[encoded data removed]",
      "text/plain": [
       "<Figure size 600x600 with 1 Axes>"
      ]
     },
     "metadata": {},
     "output_type": "display_data"
    }
   ],
   "source": [
    "plt.figure(figsize=(6,6))\n",
    "gen = [\"Female\",\"Male\"]\n",
    "plt.pie(m_gen,labels=gen,shadow=True,autopct=\"%0.0f%%\",textprops={\"fontsize\":10},colors=[\"pink\",\"blue\"],wedgeprops={'width': 0.5})\n",
    "plt.show()"
   ]
  },
  {
   "cell_type": "markdown",
   "id": "2a18d2fc",
   "metadata": {
    "papermill": {
     "duration": 0.035314,
     "end_time": "2023-09-06T11:51:08.877519",
     "exception": false,
     "start_time": "2023-09-06T11:51:08.842205",
     "status": "completed"
    },
    "tags": []
   },
   "source": [
    "**Answer: Female spends more in credit cards.**"
   ]
  },
  {
   "cell_type": "markdown",
   "id": "452a21f8",
   "metadata": {
    "papermill": {
     "duration": 0.017374,
     "end_time": "2023-09-06T11:51:08.912632",
     "exception": false,
     "start_time": "2023-09-06T11:51:08.895258",
     "status": "completed"
    },
    "tags": []
   },
   "source": [
    "**Q4. Which is the peak month for credit card usage? Represent through graph.**"
   ]
  },
  {
   "cell_type": "code",
   "execution_count": 13,
   "id": "089fe841",
   "metadata": {
    "execution": {
     "iopub.execute_input": "2023-09-06T11:51:08.951472Z",
     "iopub.status.busy": "2023-09-06T11:51:08.950275Z",
     "iopub.status.idle": "2023-09-06T11:51:08.980988Z",
     "shell.execute_reply": "2023-09-06T11:51:08.979669Z"
    },
    "papermill": {
     "duration": 0.053737,
     "end_time": "2023-09-06T11:51:08.984111",
     "exception": false,
     "start_time": "2023-09-06T11:51:08.930374",
     "status": "completed"
    },
    "tags": []
   },
   "outputs": [
    {
     "data": {
      "text/plain": [
       "January      2722\n",
       "December     2702\n",
       "October      2665\n",
       "March        2622\n",
       "November     2622\n",
       "April        2587\n",
       "May          2436\n",
       "February     2433\n",
       "August       1393\n",
       "September    1321\n",
       "July         1310\n",
       "June         1239\n",
       "Name: Month, dtype: int64"
      ]
     },
     "execution_count": 13,
     "metadata": {},
     "output_type": "execute_result"
    }
   ],
   "source": [
    "df[\"Month\"] = df[\"Date\"].dt.month_name()\n",
    "p_mnth = df[\"Month\"].value_counts()\n",
    "p_mnth "
   ]
  },
  {
   "cell_type": "code",
   "execution_count": 14,
   "id": "3745cc0b",
   "metadata": {
    "execution": {
     "iopub.execute_input": "2023-09-06T11:51:09.024676Z",
     "iopub.status.busy": "2023-09-06T11:51:09.024272Z",
     "iopub.status.idle": "2023-09-06T11:51:09.451876Z",
     "shell.execute_reply": "2023-09-06T11:51:09.450906Z"
    },
    "papermill": {
     "duration": 0.451483,
     "end_time": "2023-09-06T11:51:09.454365",
     "exception": false,
     "start_time": "2023-09-06T11:51:09.002882",
     "status": "completed"
    },
    "tags": []
   },
   "outputs": [
    {
     "data": {
      "image/png": "[encoded data removed]",
      "text/plain": [
       "<Figure size 800x400 with 1 Axes>"
      ]
     },
     "metadata": {},
     "output_type": "display_data"
    }
   ],
   "source": [
    "plt.figure(figsize=(8,4))\n",
    "sns.countplot(y=\"Month\",data=df,edgecolor=\"black\")\n",
    "plt.show()"
   ]
  },
  {
   "cell_type": "markdown",
   "id": "ffc4a4ac",
   "metadata": {
    "papermill": {
     "duration": 0.018208,
     "end_time": "2023-09-06T11:51:09.491549",
     "exception": false,
     "start_time": "2023-09-06T11:51:09.473341",
     "status": "completed"
    },
    "tags": []
   },
   "source": [
    "Answer:January is the peak month for credit card usage."
   ]
  },
  {
   "cell_type": "markdown",
   "id": "aa52b252",
   "metadata": {
    "papermill": {
     "duration": 0.018639,
     "end_time": "2023-09-06T11:51:09.528672",
     "exception": false,
     "start_time": "2023-09-06T11:51:09.510033",
     "status": "completed"
    },
    "tags": []
   },
   "source": [
    "**Q5.Find top 5 cities of India which all spended credit card maximum .**"
   ]
  },
  {
   "cell_type": "code",
   "execution_count": 15,
   "id": "9340895b",
   "metadata": {
    "execution": {
     "iopub.execute_input": "2023-09-06T11:51:09.567931Z",
     "iopub.status.busy": "2023-09-06T11:51:09.567154Z",
     "iopub.status.idle": "2023-09-06T11:51:09.583495Z",
     "shell.execute_reply": "2023-09-06T11:51:09.582277Z"
    },
    "papermill": {
     "duration": 0.039144,
     "end_time": "2023-09-06T11:51:09.586101",
     "exception": false,
     "start_time": "2023-09-06T11:51:09.546957",
     "status": "completed"
    },
    "tags": []
   },
   "outputs": [
    {
     "data": {
      "text/html": [
       "<div>\n",
       "<style scoped>\n",
       "    .dataframe tbody tr th:only-of-type {\n",
       "        vertical-align: middle;\n",
       "    }\n",
       "\n",
       "    .dataframe tbody tr th {\n",
       "        vertical-align: top;\n",
       "    }\n",
       "\n",
       "    .dataframe thead th {\n",
       "        text-align: right;\n",
       "    }\n",
       "</style>\n",
       "<table border=\"1\" class=\"dataframe\">\n",
       "  <thead>\n",
       "    <tr style=\"text-align: right;\">\n",
       "      <th></th>\n",
       "      <th>City</th>\n",
       "    </tr>\n",
       "  </thead>\n",
       "  <tbody>\n",
       "    <tr>\n",
       "      <th>Bengaluru, India</th>\n",
       "      <td>3552</td>\n",
       "    </tr>\n",
       "    <tr>\n",
       "      <th>Greater Mumbai, India</th>\n",
       "      <td>3493</td>\n",
       "    </tr>\n",
       "    <tr>\n",
       "      <th>Ahmedabad, India</th>\n",
       "      <td>3491</td>\n",
       "    </tr>\n",
       "    <tr>\n",
       "      <th>Delhi, India</th>\n",
       "      <td>3482</td>\n",
       "    </tr>\n",
       "    <tr>\n",
       "      <th>Hyderabad, India</th>\n",
       "      <td>784</td>\n",
       "    </tr>\n",
       "  </tbody>\n",
       "</table>\n",
       "</div>"
      ],
      "text/plain": [
       "                       City\n",
       "Bengaluru, India       3552\n",
       "Greater Mumbai, India  3493\n",
       "Ahmedabad, India       3491\n",
       "Delhi, India           3482\n",
       "Hyderabad, India        784"
      ]
     },
     "execution_count": 15,
     "metadata": {},
     "output_type": "execute_result"
    }
   ],
   "source": [
    "max_city = pd.DataFrame(df['City'].value_counts())[0:5]\n",
    "max_city"
   ]
  },
  {
   "cell_type": "code",
   "execution_count": 16,
   "id": "e6c2304d",
   "metadata": {
    "execution": {
     "iopub.execute_input": "2023-09-06T11:51:09.625515Z",
     "iopub.status.busy": "2023-09-06T11:51:09.624966Z",
     "iopub.status.idle": "2023-09-06T11:51:09.983470Z",
     "shell.execute_reply": "2023-09-06T11:51:09.981871Z"
    },
    "papermill": {
     "duration": 0.381821,
     "end_time": "2023-09-06T11:51:09.986418",
     "exception": false,
     "start_time": "2023-09-06T11:51:09.604597",
     "status": "completed"
    },
    "tags": []
   },
   "outputs": [
    {
     "data": {
      "image/png": "[encoded data removed]",
      "text/plain": [
       "<Figure size 1000x1000 with 1 Axes>"
      ]
     },
     "metadata": {},
     "output_type": "display_data"
    }
   ],
   "source": [
    "plt.figure(figsize=(10,10))\n",
    "colors = np.array([\"red\",\"green\",\"blue\",\"grey\",\"pink\"])\n",
    "sns.scatterplot(max_city, x=max_city.index, y='City',c=colors)  \n",
    "plt.show()"
   ]
  },
  {
   "cell_type": "markdown",
   "id": "a2035726",
   "metadata": {
    "papermill": {
     "duration": 0.021317,
     "end_time": "2023-09-06T11:51:10.030874",
     "exception": false,
     "start_time": "2023-09-06T11:51:10.009557",
     "status": "completed"
    },
    "tags": []
   },
   "source": [
    "**Q6. Which card type were mostly used by the Males and Females? Represent the comparison through graph**"
   ]
  },
  {
   "cell_type": "code",
   "execution_count": 17,
   "id": "cdddc45f",
   "metadata": {
    "execution": {
     "iopub.execute_input": "2023-09-06T11:51:10.077482Z",
     "iopub.status.busy": "2023-09-06T11:51:10.076991Z",
     "iopub.status.idle": "2023-09-06T11:51:10.107290Z",
     "shell.execute_reply": "2023-09-06T11:51:10.106326Z"
    },
    "papermill": {
     "duration": 0.058022,
     "end_time": "2023-09-06T11:51:10.109547",
     "exception": false,
     "start_time": "2023-09-06T11:51:10.051525",
     "status": "completed"
    },
    "tags": []
   },
   "outputs": [
    {
     "data": {
      "text/html": [
       "<div>\n",
       "<style scoped>\n",
       "    .dataframe tbody tr th:only-of-type {\n",
       "        vertical-align: middle;\n",
       "    }\n",
       "\n",
       "    .dataframe tbody tr th {\n",
       "        vertical-align: top;\n",
       "    }\n",
       "\n",
       "    .dataframe thead th {\n",
       "        text-align: right;\n",
       "    }\n",
       "</style>\n",
       "<table border=\"1\" class=\"dataframe\">\n",
       "  <thead>\n",
       "    <tr style=\"text-align: right;\">\n",
       "      <th></th>\n",
       "      <th></th>\n",
       "      <th>Card Type</th>\n",
       "    </tr>\n",
       "    <tr>\n",
       "      <th>Gender</th>\n",
       "      <th>Card Type</th>\n",
       "      <th></th>\n",
       "    </tr>\n",
       "  </thead>\n",
       "  <tbody>\n",
       "    <tr>\n",
       "      <th rowspan=\"4\" valign=\"top\">F</th>\n",
       "      <th>Silver</th>\n",
       "      <td>3773</td>\n",
       "    </tr>\n",
       "    <tr>\n",
       "      <th>Signature</th>\n",
       "      <td>3368</td>\n",
       "    </tr>\n",
       "    <tr>\n",
       "      <th>Gold</th>\n",
       "      <td>3287</td>\n",
       "    </tr>\n",
       "    <tr>\n",
       "      <th>Platinum</th>\n",
       "      <td>3252</td>\n",
       "    </tr>\n",
       "    <tr>\n",
       "      <th rowspan=\"4\" valign=\"top\">M</th>\n",
       "      <th>Platinum</th>\n",
       "      <td>3146</td>\n",
       "    </tr>\n",
       "    <tr>\n",
       "      <th>Gold</th>\n",
       "      <td>3080</td>\n",
       "    </tr>\n",
       "    <tr>\n",
       "      <th>Signature</th>\n",
       "      <td>3079</td>\n",
       "    </tr>\n",
       "    <tr>\n",
       "      <th>Silver</th>\n",
       "      <td>3067</td>\n",
       "    </tr>\n",
       "  </tbody>\n",
       "</table>\n",
       "</div>"
      ],
      "text/plain": [
       "                  Card Type\n",
       "Gender Card Type           \n",
       "F      Silver          3773\n",
       "       Signature       3368\n",
       "       Gold            3287\n",
       "       Platinum        3252\n",
       "M      Platinum        3146\n",
       "       Gold            3080\n",
       "       Signature       3079\n",
       "       Silver          3067"
      ]
     },
     "execution_count": 17,
     "metadata": {},
     "output_type": "execute_result"
    }
   ],
   "source": [
    "card_gen = pd.DataFrame(df.groupby('Gender')['Card Type'].value_counts())\n",
    "card_gen"
   ]
  },
  {
   "cell_type": "code",
   "execution_count": 18,
   "id": "ab5fb1f5",
   "metadata": {
    "execution": {
     "iopub.execute_input": "2023-09-06T11:51:10.155094Z",
     "iopub.status.busy": "2023-09-06T11:51:10.154316Z",
     "iopub.status.idle": "2023-09-06T11:51:10.550618Z",
     "shell.execute_reply": "2023-09-06T11:51:10.549804Z"
    },
    "papermill": {
     "duration": 0.422583,
     "end_time": "2023-09-06T11:51:10.553533",
     "exception": false,
     "start_time": "2023-09-06T11:51:10.130950",
     "status": "completed"
    },
    "tags": []
   },
   "outputs": [
    {
     "data": {
      "image/png": "[encoded data removed]",
      "text/plain": [
       "<Figure size 800x600 with 1 Axes>"
      ]
     },
     "metadata": {},
     "output_type": "display_data"
    }
   ],
   "source": [
    "plt.figure(figsize=(8,6))\n",
    "sns.countplot(x=\"Card Type\",hue=\"Gender\",data=df,palette=[\"pink\",\"blue\"],edgecolor=\"black\")\n",
    "plt.show()"
   ]
  },
  {
   "cell_type": "markdown",
   "id": "4fef87a9",
   "metadata": {
    "papermill": {
     "duration": 0.020992,
     "end_time": "2023-09-06T11:51:10.595559",
     "exception": false,
     "start_time": "2023-09-06T11:51:10.574567",
     "status": "completed"
    },
    "tags": []
   },
   "source": [
    "Answer: Females used the Silver card type where as Males have used the platinum card types more."
   ]
  },
  {
   "cell_type": "markdown",
   "id": "510b9d14",
   "metadata": {
    "papermill": {
     "duration": 0.020765,
     "end_time": "2023-09-06T11:51:10.637485",
     "exception": false,
     "start_time": "2023-09-06T11:51:10.616720",
     "status": "completed"
    },
    "tags": []
   },
   "source": [
    "**Q7.Find out the expenses of credit card of Males and Females monthwise**"
   ]
  },
  {
   "cell_type": "code",
   "execution_count": 19,
   "id": "fd526028",
   "metadata": {
    "execution": {
     "iopub.execute_input": "2023-09-06T11:51:10.681238Z",
     "iopub.status.busy": "2023-09-06T11:51:10.680815Z",
     "iopub.status.idle": "2023-09-06T11:51:10.698713Z",
     "shell.execute_reply": "2023-09-06T11:51:10.697839Z"
    },
    "papermill": {
     "duration": 0.042728,
     "end_time": "2023-09-06T11:51:10.701150",
     "exception": false,
     "start_time": "2023-09-06T11:51:10.658422",
     "status": "completed"
    },
    "tags": []
   },
   "outputs": [
    {
     "data": {
      "text/plain": [
       "Gender  Month    \n",
       "F       April        225640906\n",
       "        August       114659155\n",
       "        December     220813597\n",
       "        February     210401905\n",
       "        January      227700168\n",
       "        July         106087028\n",
       "        June         100563540\n",
       "        March        225659403\n",
       "        May          211850293\n",
       "        November     217110069\n",
       "        October      230188235\n",
       "        September    114636731\n",
       "M       April        190753828\n",
       "        August       103793971\n",
       "        December     196121818\n",
       "        February     173110719\n",
       "        January      203509388\n",
       "        July          91894388\n",
       "        June          90757499\n",
       "        March        184395043\n",
       "        May          163605316\n",
       "        November     186997899\n",
       "        October      189657772\n",
       "        September     94924702\n",
       "Name: Amount, dtype: int64"
      ]
     },
     "execution_count": 19,
     "metadata": {},
     "output_type": "execute_result"
    }
   ],
   "source": [
    "exp_m_g = df.groupby(['Gender','Month'])['Amount'].sum()\n",
    "exp_m_g"
   ]
  },
  {
   "cell_type": "code",
   "execution_count": 20,
   "id": "b87ac165",
   "metadata": {
    "execution": {
     "iopub.execute_input": "2023-09-06T11:51:10.745764Z",
     "iopub.status.busy": "2023-09-06T11:51:10.745030Z",
     "iopub.status.idle": "2023-09-06T11:51:12.638559Z",
     "shell.execute_reply": "2023-09-06T11:51:12.637015Z"
    },
    "papermill": {
     "duration": 1.919343,
     "end_time": "2023-09-06T11:51:12.641561",
     "exception": false,
     "start_time": "2023-09-06T11:51:10.722218",
     "status": "completed"
    },
    "tags": []
   },
   "outputs": [
    {
     "data": {
      "image/png": "[encoded data removed]",
      "text/plain": [
       "<Figure size 1400x800 with 1 Axes>"
      ]
     },
     "metadata": {},
     "output_type": "display_data"
    }
   ],
   "source": [
    "plt.figure(figsize=(14,8))\n",
    "sns.barplot(x=\"Gender\",y=\"Amount\",hue=\"Month\",data=df,edgecolor=\"black\")\n",
    "plt.show()"
   ]
  },
  {
   "cell_type": "code",
   "execution_count": 21,
   "id": "84332d3c",
   "metadata": {
    "execution": {
     "iopub.execute_input": "2023-09-06T11:51:12.695098Z",
     "iopub.status.busy": "2023-09-06T11:51:12.694051Z",
     "iopub.status.idle": "2023-09-06T11:51:12.937612Z",
     "shell.execute_reply": "2023-09-06T11:51:12.936309Z"
    },
    "papermill": {
     "duration": 0.273411,
     "end_time": "2023-09-06T11:51:12.941173",
     "exception": false,
     "start_time": "2023-09-06T11:51:12.667762",
     "status": "completed"
    },
    "tags": []
   },
   "outputs": [],
   "source": [
    "df.to_csv(\"Credit Card Spending Habits.csv\")"
   ]
  },
  {
   "cell_type": "markdown",
   "id": "750d8e42",
   "metadata": {
    "papermill": {
     "duration": 0.021634,
     "end_time": "2023-09-06T11:51:12.985223",
     "exception": false,
     "start_time": "2023-09-06T11:51:12.963589",
     "status": "completed"
    },
    "tags": []
   },
   "source": [
    "# <h1 style=\"color:black,text-align:center; background-color: #dddddd; border: 1px solid black; padding: 10px;\">Conclusion</h1>\n",
    "\n",
    "* Silver card types were most in the payments . \n",
    "* In Fuel and Food expenses were most counts paid by the cards.\n",
    "* In January and December there is high usage of cards payments.\n",
    "* Bengaluru,Greater Mumbai, Ahmedabad, Delhi These are the Top 4 Cities were card usage were more.\n",
    "* Females used the Silver card type were as male have used the platinum card types more.\n",
    "* Females were more depend on credit cards as they spend more amount on credit cards than men. \n",
    "* Females and Males mostly spend amount on Bills and Food using credit card.\n",
    "* Females mostly spend in October and Males in january using credit cards.\n"
   ]
  }
 ],
 "kernelspec": {
  "display_name": "Python 3",
  "language": "python",
  "name": "python3"
 },
 "language_info": {
  "codemirror_mode": {
   "name": "ipython",
   "version": 3
  },
  "file_extension": ".py",
  "mimetype": "text/x-python",
  "name": "python",
  "nbconvert_exporter": "python",
  "pygments_lexer": "ipython3",
  "version": "3.6.4"
 },
 "metadata": {
  "kernelspec": {
   "display_name": "Python 3",
   "language": "python",
   "name": "python3"
  },
  "language_info": {
   "codemirror_mode": {
    "name": "ipython",
    "version": 3
   },
   "file_extension": ".py",
   "mimetype": "text/x-python",
   "name": "python",
   "nbconvert_exporter": "python",
   "pygments_lexer": "ipython3",
   "version": "3.10.12"
  },
  "papermill": {
   "default_parameters": {},
   "duration": 23.65635,
   "end_time": "2023-09-06T11:51:14.447000",
   "environment_variables": {},
   "exception": null,
   "input_path": "__notebook__.ipynb",
   "output_path": "__notebook__.ipynb",
   "parameters": {},
   "start_time": "2023-09-06T11:50:50.790650",
   "version": "2.4.0"
  }
 },
 "nbformat": 4,
 "nbformat_minor": 5
}
