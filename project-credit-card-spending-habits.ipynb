{
 "cells": [
  {
   "cell_type": "markdown",
   "id": "2c20f7a1",
   "metadata": {
    "papermill": {
     "duration": 0.013558,
     "end_time": "2023-08-22T11:22:24.018957",
     "exception": false,
     "start_time": "2023-08-22T11:22:24.005399",
     "status": "completed"
    },
    "tags": []
   },
   "source": [
    "# <h1 style=\"color: blue; text-align:center; background-color: #dddddd; border: 1px solid black; padding: 10px;font-size: 36px;\">Credit Card Spending Habits </h1>"
   ]
  },
  {
   "cell_type": "markdown",
   "id": "ab4a329e",
   "metadata": {
    "papermill": {
     "duration": 0.011888,
     "end_time": "2023-08-22T11:22:24.043624",
     "exception": false,
     "start_time": "2023-08-22T11:22:24.031736",
     "status": "completed"
    },
    "tags": []
   },
   "source": [
    "# About \n",
    "\n",
    "About this file :\n",
    "\n",
    "This dataset contains insights into credit card transactions made in India, offering a comprehensive look at the spending habits of Indians across the nation\n",
    "\n",
    "* City: The city in which the transaction took place. (String)\n",
    "* Date: The date of the transaction. (Date)\n",
    "* Card Type: The type of credit card used for the transaction. (String)\n",
    "* Exp Type: The type of expense associated with the transaction. (String)\n",
    "* Gender: The gender of the cardholder. (String)\n",
    "* Amount: The amount of the transaction. (Number)"
   ]
  },
  {
   "cell_type": "markdown",
   "id": "c7fa7f3a",
   "metadata": {
    "papermill": {
     "duration": 0.013137,
     "end_time": "2023-08-22T11:22:24.068905",
     "exception": false,
     "start_time": "2023-08-22T11:22:24.055768",
     "status": "completed"
    },
    "tags": []
   },
   "source": [
    "## Importing necessary libraries\n"
   ]
  },
  {
   "cell_type": "code",
   "execution_count": 1,
   "id": "3f1fa516",
   "metadata": {
    "execution": {
     "iopub.execute_input": "2023-08-22T11:22:24.096003Z",
     "iopub.status.busy": "2023-08-22T11:22:24.094693Z",
     "iopub.status.idle": "2023-08-22T11:22:25.537125Z",
     "shell.execute_reply": "2023-08-22T11:22:25.535902Z"
    },
    "papermill": {
     "duration": 1.459057,
     "end_time": "2023-08-22T11:22:25.539996",
     "exception": false,
     "start_time": "2023-08-22T11:22:24.080939",
     "status": "completed"
    },
    "tags": []
   },
   "outputs": [
    {
     "name": "stderr",
     "output_type": "stream",
     "text": [
      "/opt/conda/lib/python3.10/site-packages/scipy/__init__.py:146: UserWarning: A NumPy version >=1.16.5 and <1.23.0 is required for this version of SciPy (detected version 1.23.5\n",
      "  warnings.warn(f\"A NumPy version >={np_minversion} and <{np_maxversion}\"\n"
     ]
    }
   ],
   "source": [
    "import pandas as pd\n",
    "import numpy as np\n",
    "import matplotlib\n",
    "import matplotlib.pyplot as plt\n",
    "import seaborn as sns\n",
    "sns.set(style=\"darkgrid\")\n",
    "pd.options.display.max_columns=50"
   ]
  },
  {
   "cell_type": "markdown",
   "id": "ed0c25eb",
   "metadata": {
    "papermill": {
     "duration": 0.011891,
     "end_time": "2023-08-22T11:22:25.564186",
     "exception": false,
     "start_time": "2023-08-22T11:22:25.552295",
     "status": "completed"
    },
    "tags": []
   },
   "source": [
    "## Importing Data Set\n"
   ]
  },
  {
   "cell_type": "code",
   "execution_count": 2,
   "id": "4f70950c",
   "metadata": {
    "execution": {
     "iopub.execute_input": "2023-08-22T11:22:25.590484Z",
     "iopub.status.busy": "2023-08-22T11:22:25.590063Z",
     "iopub.status.idle": "2023-08-22T11:22:25.707453Z",
     "shell.execute_reply": "2023-08-22T11:22:25.706294Z"
    },
    "papermill": {
     "duration": 0.133546,
     "end_time": "2023-08-22T11:22:25.709916",
     "exception": false,
     "start_time": "2023-08-22T11:22:25.576370",
     "status": "completed"
    },
    "tags": []
   },
   "outputs": [
    {
     "data": {
      "text/html": [
       "<div>\n",
       "<style scoped>\n",
       "    .dataframe tbody tr th:only-of-type {\n",
       "        vertical-align: middle;\n",
       "    }\n",
       "\n",
       "    .dataframe tbody tr th {\n",
       "        vertical-align: top;\n",
       "    }\n",
       "\n",
       "    .dataframe thead th {\n",
       "        text-align: right;\n",
       "    }\n",
       "</style>\n",
       "<table border=\"1\" class=\"dataframe\">\n",
       "  <thead>\n",
       "    <tr style=\"text-align: right;\">\n",
       "      <th></th>\n",
       "      <th>City</th>\n",
       "      <th>Date</th>\n",
       "      <th>Card Type</th>\n",
       "      <th>Exp Type</th>\n",
       "      <th>Gender</th>\n",
       "      <th>Amount</th>\n",
       "    </tr>\n",
       "    <tr>\n",
       "      <th>index</th>\n",
       "      <th></th>\n",
       "      <th></th>\n",
       "      <th></th>\n",
       "      <th></th>\n",
       "      <th></th>\n",
       "      <th></th>\n",
       "    </tr>\n",
       "  </thead>\n",
       "  <tbody>\n",
       "    <tr>\n",
       "      <th>0</th>\n",
       "      <td>Delhi, India</td>\n",
       "      <td>29-Oct-14</td>\n",
       "      <td>Gold</td>\n",
       "      <td>Bills</td>\n",
       "      <td>F</td>\n",
       "      <td>82475</td>\n",
       "    </tr>\n",
       "    <tr>\n",
       "      <th>1</th>\n",
       "      <td>Greater Mumbai, India</td>\n",
       "      <td>22-Aug-14</td>\n",
       "      <td>Platinum</td>\n",
       "      <td>Bills</td>\n",
       "      <td>F</td>\n",
       "      <td>32555</td>\n",
       "    </tr>\n",
       "    <tr>\n",
       "      <th>2</th>\n",
       "      <td>Bengaluru, India</td>\n",
       "      <td>27-Aug-14</td>\n",
       "      <td>Silver</td>\n",
       "      <td>Bills</td>\n",
       "      <td>F</td>\n",
       "      <td>101738</td>\n",
       "    </tr>\n",
       "    <tr>\n",
       "      <th>3</th>\n",
       "      <td>Greater Mumbai, India</td>\n",
       "      <td>12-Apr-14</td>\n",
       "      <td>Signature</td>\n",
       "      <td>Bills</td>\n",
       "      <td>F</td>\n",
       "      <td>123424</td>\n",
       "    </tr>\n",
       "    <tr>\n",
       "      <th>4</th>\n",
       "      <td>Bengaluru, India</td>\n",
       "      <td>5-May-15</td>\n",
       "      <td>Gold</td>\n",
       "      <td>Bills</td>\n",
       "      <td>F</td>\n",
       "      <td>171574</td>\n",
       "    </tr>\n",
       "    <tr>\n",
       "      <th>...</th>\n",
       "      <td>...</td>\n",
       "      <td>...</td>\n",
       "      <td>...</td>\n",
       "      <td>...</td>\n",
       "      <td>...</td>\n",
       "      <td>...</td>\n",
       "    </tr>\n",
       "    <tr>\n",
       "      <th>26047</th>\n",
       "      <td>Kolkata, India</td>\n",
       "      <td>22-Jun-14</td>\n",
       "      <td>Silver</td>\n",
       "      <td>Travel</td>\n",
       "      <td>F</td>\n",
       "      <td>128191</td>\n",
       "    </tr>\n",
       "    <tr>\n",
       "      <th>26048</th>\n",
       "      <td>Pune, India</td>\n",
       "      <td>3-Aug-14</td>\n",
       "      <td>Signature</td>\n",
       "      <td>Travel</td>\n",
       "      <td>M</td>\n",
       "      <td>246316</td>\n",
       "    </tr>\n",
       "    <tr>\n",
       "      <th>26049</th>\n",
       "      <td>Hyderabad, India</td>\n",
       "      <td>16-Jan-15</td>\n",
       "      <td>Silver</td>\n",
       "      <td>Travel</td>\n",
       "      <td>M</td>\n",
       "      <td>265019</td>\n",
       "    </tr>\n",
       "    <tr>\n",
       "      <th>26050</th>\n",
       "      <td>Kanpur, India</td>\n",
       "      <td>14-Sep-14</td>\n",
       "      <td>Silver</td>\n",
       "      <td>Travel</td>\n",
       "      <td>M</td>\n",
       "      <td>88174</td>\n",
       "    </tr>\n",
       "    <tr>\n",
       "      <th>26051</th>\n",
       "      <td>Hyderabad, India</td>\n",
       "      <td>19-Oct-13</td>\n",
       "      <td>Signature</td>\n",
       "      <td>Bills</td>\n",
       "      <td>M</td>\n",
       "      <td>184410</td>\n",
       "    </tr>\n",
       "  </tbody>\n",
       "</table>\n",
       "<p>26052 rows × 6 columns</p>\n",
       "</div>"
      ],
      "text/plain": [
       "                        City       Date  Card Type Exp Type Gender  Amount\n",
       "index                                                                     \n",
       "0               Delhi, India  29-Oct-14       Gold    Bills      F   82475\n",
       "1      Greater Mumbai, India  22-Aug-14   Platinum    Bills      F   32555\n",
       "2           Bengaluru, India  27-Aug-14     Silver    Bills      F  101738\n",
       "3      Greater Mumbai, India  12-Apr-14  Signature    Bills      F  123424\n",
       "4           Bengaluru, India   5-May-15       Gold    Bills      F  171574\n",
       "...                      ...        ...        ...      ...    ...     ...\n",
       "26047         Kolkata, India  22-Jun-14     Silver   Travel      F  128191\n",
       "26048            Pune, India   3-Aug-14  Signature   Travel      M  246316\n",
       "26049       Hyderabad, India  16-Jan-15     Silver   Travel      M  265019\n",
       "26050          Kanpur, India  14-Sep-14     Silver   Travel      M   88174\n",
       "26051       Hyderabad, India  19-Oct-13  Signature    Bills      M  184410\n",
       "\n",
       "[26052 rows x 6 columns]"
      ]
     },
     "execution_count": 2,
     "metadata": {},
     "output_type": "execute_result"
    }
   ],
   "source": [
    "df=pd.read_csv(\"/kaggle/input/analyzing-credit-card-spending-habits-in-india/Credit card transactions - India - Simple.csv\", index_col='index')\n",
    "df"
   ]
  },
  {
   "cell_type": "markdown",
   "id": "6e1b8839",
   "metadata": {
    "papermill": {
     "duration": 0.012395,
     "end_time": "2023-08-22T11:22:25.734987",
     "exception": false,
     "start_time": "2023-08-22T11:22:25.722592",
     "status": "completed"
    },
    "tags": []
   },
   "source": [
    "## Workflow\n",
    "* Understanding the data\n",
    "* Data cleaning\n",
    "* Exploratory Data Analysis\n",
    "* Insights "
   ]
  },
  {
   "cell_type": "markdown",
   "id": "d576b729",
   "metadata": {
    "papermill": {
     "duration": 0.012412,
     "end_time": "2023-08-22T11:22:25.760154",
     "exception": false,
     "start_time": "2023-08-22T11:22:25.747742",
     "status": "completed"
    },
    "tags": []
   },
   "source": [
    "# <h1 style=\"color: black; text-align:center; background-color: #dddddd; border: 1px solid black; padding: 10px;font-size: 36px;\">Understanding the data </h1>"
   ]
  },
  {
   "cell_type": "markdown",
   "id": "576bd886",
   "metadata": {
    "papermill": {
     "duration": 0.012388,
     "end_time": "2023-08-22T11:22:25.785331",
     "exception": false,
     "start_time": "2023-08-22T11:22:25.772943",
     "status": "completed"
    },
    "tags": []
   },
   "source": [
    "# **Shape of the data**"
   ]
  },
  {
   "cell_type": "code",
   "execution_count": 3,
   "id": "6e7b0e7b",
   "metadata": {
    "execution": {
     "iopub.execute_input": "2023-08-22T11:22:25.814084Z",
     "iopub.status.busy": "2023-08-22T11:22:25.813351Z",
     "iopub.status.idle": "2023-08-22T11:22:25.820149Z",
     "shell.execute_reply": "2023-08-22T11:22:25.819156Z"
    },
    "papermill": {
     "duration": 0.023367,
     "end_time": "2023-08-22T11:22:25.822278",
     "exception": false,
     "start_time": "2023-08-22T11:22:25.798911",
     "status": "completed"
    },
    "tags": []
   },
   "outputs": [
    {
     "data": {
      "text/plain": [
       "(26052, 6)"
      ]
     },
     "execution_count": 3,
     "metadata": {},
     "output_type": "execute_result"
    }
   ],
   "source": [
    "df.shape"
   ]
  },
  {
   "cell_type": "markdown",
   "id": "a2b3ab85",
   "metadata": {
    "papermill": {
     "duration": 0.012961,
     "end_time": "2023-08-22T11:22:25.848079",
     "exception": false,
     "start_time": "2023-08-22T11:22:25.835118",
     "status": "completed"
    },
    "tags": []
   },
   "source": [
    "# **Information of the data**\n",
    "**But what does the columns mean and what is it used for?**"
   ]
  },
  {
   "cell_type": "code",
   "execution_count": 4,
   "id": "9b95d6b0",
   "metadata": {
    "execution": {
     "iopub.execute_input": "2023-08-22T11:22:25.876247Z",
     "iopub.status.busy": "2023-08-22T11:22:25.875532Z",
     "iopub.status.idle": "2023-08-22T11:22:25.939211Z",
     "shell.execute_reply": "2023-08-22T11:22:25.937947Z"
    },
    "papermill": {
     "duration": 0.08106,
     "end_time": "2023-08-22T11:22:25.942233",
     "exception": false,
     "start_time": "2023-08-22T11:22:25.861173",
     "status": "completed"
    },
    "tags": []
   },
   "outputs": [
    {
     "name": "stdout",
     "output_type": "stream",
     "text": [
      "<class 'pandas.core.frame.DataFrame'>\n",
      "Int64Index: 26052 entries, 0 to 26051\n",
      "Data columns (total 6 columns):\n",
      " #   Column     Non-Null Count  Dtype \n",
      "---  ------     --------------  ----- \n",
      " 0   City       26052 non-null  object\n",
      " 1   Date       26052 non-null  object\n",
      " 2   Card Type  26052 non-null  object\n",
      " 3   Exp Type   26052 non-null  object\n",
      " 4   Gender     26052 non-null  object\n",
      " 5   Amount     26052 non-null  int64 \n",
      "dtypes: int64(1), object(5)\n",
      "memory usage: 1.4+ MB\n"
     ]
    }
   ],
   "source": [
    "df.info()"
   ]
  },
  {
   "cell_type": "markdown",
   "id": "9cfefa56",
   "metadata": {
    "papermill": {
     "duration": 0.012654,
     "end_time": "2023-08-22T11:22:25.967975",
     "exception": false,
     "start_time": "2023-08-22T11:22:25.955321",
     "status": "completed"
    },
    "tags": []
   },
   "source": [
    "**Insights:\n",
    "1. Date column must be in Datetime Datatype.\n",
    "2. No Null values in any columns.\n"
   ]
  },
  {
   "cell_type": "markdown",
   "id": "f69e647d",
   "metadata": {
    "papermill": {
     "duration": 0.012468,
     "end_time": "2023-08-22T11:22:25.993399",
     "exception": false,
     "start_time": "2023-08-22T11:22:25.980931",
     "status": "completed"
    },
    "tags": []
   },
   "source": [
    "# **Check duplicate Values**"
   ]
  },
  {
   "cell_type": "code",
   "execution_count": 5,
   "id": "72bb77eb",
   "metadata": {
    "execution": {
     "iopub.execute_input": "2023-08-22T11:22:26.023632Z",
     "iopub.status.busy": "2023-08-22T11:22:26.022944Z",
     "iopub.status.idle": "2023-08-22T11:22:26.047904Z",
     "shell.execute_reply": "2023-08-22T11:22:26.046715Z"
    },
    "papermill": {
     "duration": 0.043536,
     "end_time": "2023-08-22T11:22:26.050265",
     "exception": false,
     "start_time": "2023-08-22T11:22:26.006729",
     "status": "completed"
    },
    "tags": []
   },
   "outputs": [
    {
     "data": {
      "text/plain": [
       "0"
      ]
     },
     "execution_count": 5,
     "metadata": {},
     "output_type": "execute_result"
    }
   ],
   "source": [
    "df.duplicated().sum()"
   ]
  },
  {
   "cell_type": "markdown",
   "id": "57c124c2",
   "metadata": {
    "papermill": {
     "duration": 0.012631,
     "end_time": "2023-08-22T11:22:26.075978",
     "exception": false,
     "start_time": "2023-08-22T11:22:26.063347",
     "status": "completed"
    },
    "tags": []
   },
   "source": [
    "# <h1 style=\"color: black; text-align:center; background-color: #dddddd; border: 1px solid black; padding: 10px;font-size: 36px;\">Data Cleaning </h1>"
   ]
  },
  {
   "cell_type": "markdown",
   "id": "4f979bef",
   "metadata": {
    "papermill": {
     "duration": 0.012665,
     "end_time": "2023-08-22T11:22:26.101682",
     "exception": false,
     "start_time": "2023-08-22T11:22:26.089017",
     "status": "completed"
    },
    "tags": []
   },
   "source": [
    "# ** Object to Date datatype Conversion**"
   ]
  },
  {
   "cell_type": "code",
   "execution_count": 6,
   "id": "6b330531",
   "metadata": {
    "execution": {
     "iopub.execute_input": "2023-08-22T11:22:26.130108Z",
     "iopub.status.busy": "2023-08-22T11:22:26.129380Z",
     "iopub.status.idle": "2023-08-22T11:22:26.200979Z",
     "shell.execute_reply": "2023-08-22T11:22:26.199614Z"
    },
    "papermill": {
     "duration": 0.088774,
     "end_time": "2023-08-22T11:22:26.203617",
     "exception": false,
     "start_time": "2023-08-22T11:22:26.114843",
     "status": "completed"
    },
    "tags": []
   },
   "outputs": [
    {
     "data": {
      "text/plain": [
       "City                 object\n",
       "Date         datetime64[ns]\n",
       "Card Type            object\n",
       "Exp Type             object\n",
       "Gender               object\n",
       "Amount                int64\n",
       "dtype: object"
      ]
     },
     "execution_count": 6,
     "metadata": {},
     "output_type": "execute_result"
    }
   ],
   "source": [
    "df[\"Date\"]=pd.to_datetime(df[\"Date\"])\n",
    "df.dtypes\n"
   ]
  },
  {
   "cell_type": "markdown",
   "id": "c6b17baa",
   "metadata": {
    "papermill": {
     "duration": 0.012771,
     "end_time": "2023-08-22T11:22:26.229711",
     "exception": false,
     "start_time": "2023-08-22T11:22:26.216940",
     "status": "completed"
    },
    "tags": []
   },
   "source": [
    "**Q1. Which card type is most popular. Represent through piechart**"
   ]
  },
  {
   "cell_type": "code",
   "execution_count": 7,
   "id": "d13a65fc",
   "metadata": {
    "execution": {
     "iopub.execute_input": "2023-08-22T11:22:26.257869Z",
     "iopub.status.busy": "2023-08-22T11:22:26.257397Z",
     "iopub.status.idle": "2023-08-22T11:22:26.270576Z",
     "shell.execute_reply": "2023-08-22T11:22:26.269309Z"
    },
    "papermill": {
     "duration": 0.030142,
     "end_time": "2023-08-22T11:22:26.273090",
     "exception": false,
     "start_time": "2023-08-22T11:22:26.242948",
     "status": "completed"
    },
    "tags": []
   },
   "outputs": [
    {
     "data": {
      "text/plain": [
       "Silver       6840\n",
       "Signature    6447\n",
       "Platinum     6398\n",
       "Gold         6367\n",
       "Name: Card Type, dtype: int64"
      ]
     },
     "execution_count": 7,
     "metadata": {},
     "output_type": "execute_result"
    }
   ],
   "source": [
    "\n",
    "m_card =df[\"Card Type\"].value_counts()\n",
    "m_card\n",
    "\n"
   ]
  },
  {
   "cell_type": "code",
   "execution_count": 8,
   "id": "eb2bd915",
   "metadata": {
    "execution": {
     "iopub.execute_input": "2023-08-22T11:22:26.302942Z",
     "iopub.status.busy": "2023-08-22T11:22:26.301924Z",
     "iopub.status.idle": "2023-08-22T11:22:26.586777Z",
     "shell.execute_reply": "2023-08-22T11:22:26.585168Z"
    },
    "papermill": {
     "duration": 0.305009,
     "end_time": "2023-08-22T11:22:26.591685",
     "exception": false,
     "start_time": "2023-08-22T11:22:26.286676",
     "status": "completed"
    },
    "tags": []
   },
   "outputs": [
    {
     "data": {
      "image/png": "[encoded data removed]",
      "text/plain": [
       "<Figure size 600x600 with 1 Axes>"
      ]
     },
     "metadata": {},
     "output_type": "display_data"
    }
   ],
   "source": [
    "plt.figure(figsize=(6,6))\n",
    "l=[\"Silver\",\"Signature\",\"Platinum\",\"Gold\"]\n",
    "plt.pie(m_card,labels=l,shadow=True,autopct=\"%0.0f%%\",textprops={'fontsize': 20},wedgeprops={\"width\":0.8})\n",
    "plt.show()"
   ]
  },
  {
   "cell_type": "markdown",
   "id": "cf3854a9",
   "metadata": {
    "papermill": {
     "duration": 0.013812,
     "end_time": "2023-08-22T11:22:26.627157",
     "exception": false,
     "start_time": "2023-08-22T11:22:26.613345",
     "status": "completed"
    },
    "tags": []
   },
   "source": [
    "**Answer: Silver card type is the most popular.**"
   ]
  },
  {
   "cell_type": "markdown",
   "id": "c0bfa44a",
   "metadata": {
    "papermill": {
     "duration": 0.013847,
     "end_time": "2023-08-22T11:22:26.655224",
     "exception": false,
     "start_time": "2023-08-22T11:22:26.641377",
     "status": "completed"
    },
    "tags": []
   },
   "source": [
    "**Q2. Which expense type is most popular. Represent through graph**"
   ]
  },
  {
   "cell_type": "code",
   "execution_count": 9,
   "id": "f69549cf",
   "metadata": {
    "execution": {
     "iopub.execute_input": "2023-08-22T11:22:26.685978Z",
     "iopub.status.busy": "2023-08-22T11:22:26.685225Z",
     "iopub.status.idle": "2023-08-22T11:22:26.697868Z",
     "shell.execute_reply": "2023-08-22T11:22:26.696655Z"
    },
    "papermill": {
     "duration": 0.03119,
     "end_time": "2023-08-22T11:22:26.700706",
     "exception": false,
     "start_time": "2023-08-22T11:22:26.669516",
     "status": "completed"
    },
    "tags": []
   },
   "outputs": [
    {
     "data": {
      "text/plain": [
       "Food             5463\n",
       "Fuel             5257\n",
       "Bills            5078\n",
       "Entertainment    4762\n",
       "Grocery          4754\n",
       "Travel            738\n",
       "Name: Exp Type, dtype: int64"
      ]
     },
     "execution_count": 9,
     "metadata": {},
     "output_type": "execute_result"
    }
   ],
   "source": [
    "m_exp = df['Exp Type'].value_counts()\n",
    "m_exp\n"
   ]
  },
  {
   "cell_type": "code",
   "execution_count": 10,
   "id": "f65d551d",
   "metadata": {
    "execution": {
     "iopub.execute_input": "2023-08-22T11:22:26.732990Z",
     "iopub.status.busy": "2023-08-22T11:22:26.732301Z",
     "iopub.status.idle": "2023-08-22T11:22:27.077883Z",
     "shell.execute_reply": "2023-08-22T11:22:27.076696Z"
    },
    "papermill": {
     "duration": 0.36459,
     "end_time": "2023-08-22T11:22:27.080496",
     "exception": false,
     "start_time": "2023-08-22T11:22:26.715906",
     "status": "completed"
    },
    "tags": []
   },
   "outputs": [
    {
     "data": {
      "image/png": "[encoded data removed]",
      "text/plain": [
       "<Figure size 800x600 with 1 Axes>"
      ]
     },
     "metadata": {},
     "output_type": "display_data"
    }
   ],
   "source": [
    "plt.figure(figsize=(8,6))\n",
    "sns.countplot(x =\"Exp Type\",data=df,edgecolor=\"black\")\n",
    "plt.show()"
   ]
  },
  {
   "cell_type": "markdown",
   "id": "962bf8a7",
   "metadata": {
    "papermill": {
     "duration": 0.014533,
     "end_time": "2023-08-22T11:22:27.110264",
     "exception": false,
     "start_time": "2023-08-22T11:22:27.095731",
     "status": "completed"
    },
    "tags": []
   },
   "source": [
    "**Answer: Food Expense type is the most popular.**"
   ]
  },
  {
   "cell_type": "markdown",
   "id": "0b4582eb",
   "metadata": {
    "papermill": {
     "duration": 0.014315,
     "end_time": "2023-08-22T11:22:27.139347",
     "exception": false,
     "start_time": "2023-08-22T11:22:27.125032",
     "status": "completed"
    },
    "tags": []
   },
   "source": [
    "**Q3. Which gender spend more in Credit Card? Show through piechart.**"
   ]
  },
  {
   "cell_type": "code",
   "execution_count": 11,
   "id": "807d80ed",
   "metadata": {
    "execution": {
     "iopub.execute_input": "2023-08-22T11:22:27.170735Z",
     "iopub.status.busy": "2023-08-22T11:22:27.170336Z",
     "iopub.status.idle": "2023-08-22T11:22:27.183277Z",
     "shell.execute_reply": "2023-08-22T11:22:27.182091Z"
    },
    "papermill": {
     "duration": 0.031689,
     "end_time": "2023-08-22T11:22:27.185817",
     "exception": false,
     "start_time": "2023-08-22T11:22:27.154128",
     "status": "completed"
    },
    "tags": []
   },
   "outputs": [
    {
     "data": {
      "text/plain": [
       "F    13680\n",
       "M    12372\n",
       "Name: Gender, dtype: int64"
      ]
     },
     "execution_count": 11,
     "metadata": {},
     "output_type": "execute_result"
    }
   ],
   "source": [
    "m_gen = df[\"Gender\"].value_counts()\n",
    "m_gen"
   ]
  },
  {
   "cell_type": "code",
   "execution_count": 12,
   "id": "a59f9c59",
   "metadata": {
    "execution": {
     "iopub.execute_input": "2023-08-22T11:22:27.218223Z",
     "iopub.status.busy": "2023-08-22T11:22:27.217393Z",
     "iopub.status.idle": "2023-08-22T11:22:27.434028Z",
     "shell.execute_reply": "2023-08-22T11:22:27.432882Z"
    },
    "papermill": {
     "duration": 0.237506,
     "end_time": "2023-08-22T11:22:27.438473",
     "exception": false,
     "start_time": "2023-08-22T11:22:27.200967",
     "status": "completed"
    },
    "tags": []
   },
   "outputs": [
    {
     "data": {
      "image/png": "[encoded data removed]",
      "text/plain": [
       "<Figure size 600x600 with 1 Axes>"
      ]
     },
     "metadata": {},
     "output_type": "display_data"
    }
   ],
   "source": [
    "plt.figure(figsize=(6,6))\n",
    "gen = [\"Female\",\"Male\"]\n",
    "plt.pie(m_gen,labels=gen,shadow=True,autopct=\"%0.0f%%\",textprops={\"fontsize\":10},colors=[\"pink\",\"blue\"],wedgeprops={'width': 0.5})\n",
    "plt.show()"
   ]
  },
  {
   "cell_type": "markdown",
   "id": "fa7273d1",
   "metadata": {
    "papermill": {
     "duration": 0.020586,
     "end_time": "2023-08-22T11:22:27.492363",
     "exception": false,
     "start_time": "2023-08-22T11:22:27.471777",
     "status": "completed"
    },
    "tags": []
   },
   "source": [
    "**Answer: Female spends more in credit cards.**"
   ]
  },
  {
   "cell_type": "markdown",
   "id": "2ca11574",
   "metadata": {
    "papermill": {
     "duration": 0.015198,
     "end_time": "2023-08-22T11:22:27.523213",
     "exception": false,
     "start_time": "2023-08-22T11:22:27.508015",
     "status": "completed"
    },
    "tags": []
   },
   "source": [
    "**Q4. Which is the peak month for credit card usage? Represent through graph.**"
   ]
  },
  {
   "cell_type": "code",
   "execution_count": 13,
   "id": "3e090b00",
   "metadata": {
    "execution": {
     "iopub.execute_input": "2023-08-22T11:22:27.556956Z",
     "iopub.status.busy": "2023-08-22T11:22:27.555672Z",
     "iopub.status.idle": "2023-08-22T11:22:27.584679Z",
     "shell.execute_reply": "2023-08-22T11:22:27.583441Z"
    },
    "papermill": {
     "duration": 0.048424,
     "end_time": "2023-08-22T11:22:27.587204",
     "exception": false,
     "start_time": "2023-08-22T11:22:27.538780",
     "status": "completed"
    },
    "tags": []
   },
   "outputs": [
    {
     "data": {
      "text/plain": [
       "January      2722\n",
       "December     2702\n",
       "October      2665\n",
       "March        2622\n",
       "November     2622\n",
       "April        2587\n",
       "May          2436\n",
       "February     2433\n",
       "August       1393\n",
       "September    1321\n",
       "July         1310\n",
       "June         1239\n",
       "Name: Month, dtype: int64"
      ]
     },
     "execution_count": 13,
     "metadata": {},
     "output_type": "execute_result"
    }
   ],
   "source": [
    "df[\"Month\"] = df[\"Date\"].dt.month_name()\n",
    "p_mnth = df[\"Month\"].value_counts()\n",
    "p_mnth "
   ]
  },
  {
   "cell_type": "code",
   "execution_count": 14,
   "id": "0090a0bd",
   "metadata": {
    "execution": {
     "iopub.execute_input": "2023-08-22T11:22:27.621465Z",
     "iopub.status.busy": "2023-08-22T11:22:27.620498Z",
     "iopub.status.idle": "2023-08-22T11:22:28.029383Z",
     "shell.execute_reply": "2023-08-22T11:22:28.028481Z"
    },
    "papermill": {
     "duration": 0.428534,
     "end_time": "2023-08-22T11:22:28.031676",
     "exception": false,
     "start_time": "2023-08-22T11:22:27.603142",
     "status": "completed"
    },
    "tags": []
   },
   "outputs": [
    {
     "data": {
      "image/png": "[encoded data removed]",
      "text/plain": [
       "<Figure size 800x400 with 1 Axes>"
      ]
     },
     "metadata": {},
     "output_type": "display_data"
    }
   ],
   "source": [
    "plt.figure(figsize=(8,4))\n",
    "sns.countplot(y=\"Month\",data=df,edgecolor=\"black\")\n",
    "plt.show()"
   ]
  },
  {
   "cell_type": "markdown",
   "id": "60eab0ff",
   "metadata": {
    "papermill": {
     "duration": 0.016519,
     "end_time": "2023-08-22T11:22:28.065433",
     "exception": false,
     "start_time": "2023-08-22T11:22:28.048914",
     "status": "completed"
    },
    "tags": []
   },
   "source": [
    "Answer:January is the peak month for credit card usage."
   ]
  },
  {
   "cell_type": "markdown",
   "id": "c27e622a",
   "metadata": {
    "papermill": {
     "duration": 0.016182,
     "end_time": "2023-08-22T11:22:28.098060",
     "exception": false,
     "start_time": "2023-08-22T11:22:28.081878",
     "status": "completed"
    },
    "tags": []
   },
   "source": [
    "**Q5.Find top 5 cities of India which all spended credit card maximum .**"
   ]
  },
  {
   "cell_type": "code",
   "execution_count": 15,
   "id": "cb2b40f5",
   "metadata": {
    "execution": {
     "iopub.execute_input": "2023-08-22T11:22:28.133393Z",
     "iopub.status.busy": "2023-08-22T11:22:28.132673Z",
     "iopub.status.idle": "2023-08-22T11:22:28.146876Z",
     "shell.execute_reply": "2023-08-22T11:22:28.145645Z"
    },
    "papermill": {
     "duration": 0.034638,
     "end_time": "2023-08-22T11:22:28.149212",
     "exception": false,
     "start_time": "2023-08-22T11:22:28.114574",
     "status": "completed"
    },
    "tags": []
   },
   "outputs": [
    {
     "data": {
      "text/html": [
       "<div>\n",
       "<style scoped>\n",
       "    .dataframe tbody tr th:only-of-type {\n",
       "        vertical-align: middle;\n",
       "    }\n",
       "\n",
       "    .dataframe tbody tr th {\n",
       "        vertical-align: top;\n",
       "    }\n",
       "\n",
       "    .dataframe thead th {\n",
       "        text-align: right;\n",
       "    }\n",
       "</style>\n",
       "<table border=\"1\" class=\"dataframe\">\n",
       "  <thead>\n",
       "    <tr style=\"text-align: right;\">\n",
       "      <th></th>\n",
       "      <th>City</th>\n",
       "    </tr>\n",
       "  </thead>\n",
       "  <tbody>\n",
       "    <tr>\n",
       "      <th>Bengaluru, India</th>\n",
       "      <td>3552</td>\n",
       "    </tr>\n",
       "    <tr>\n",
       "      <th>Greater Mumbai, India</th>\n",
       "      <td>3493</td>\n",
       "    </tr>\n",
       "    <tr>\n",
       "      <th>Ahmedabad, India</th>\n",
       "      <td>3491</td>\n",
       "    </tr>\n",
       "    <tr>\n",
       "      <th>Delhi, India</th>\n",
       "      <td>3482</td>\n",
       "    </tr>\n",
       "    <tr>\n",
       "      <th>Hyderabad, India</th>\n",
       "      <td>784</td>\n",
       "    </tr>\n",
       "  </tbody>\n",
       "</table>\n",
       "</div>"
      ],
      "text/plain": [
       "                       City\n",
       "Bengaluru, India       3552\n",
       "Greater Mumbai, India  3493\n",
       "Ahmedabad, India       3491\n",
       "Delhi, India           3482\n",
       "Hyderabad, India        784"
      ]
     },
     "execution_count": 15,
     "metadata": {},
     "output_type": "execute_result"
    }
   ],
   "source": [
    "max_city = pd.DataFrame(df['City'].value_counts())[0:5]\n",
    "max_city"
   ]
  },
  {
   "cell_type": "code",
   "execution_count": 16,
   "id": "caa29cf7",
   "metadata": {
    "execution": {
     "iopub.execute_input": "2023-08-22T11:22:28.184417Z",
     "iopub.status.busy": "2023-08-22T11:22:28.183972Z",
     "iopub.status.idle": "2023-08-22T11:22:28.517729Z",
     "shell.execute_reply": "2023-08-22T11:22:28.516075Z"
    },
    "papermill": {
     "duration": 0.358509,
     "end_time": "2023-08-22T11:22:28.524302",
     "exception": false,
     "start_time": "2023-08-22T11:22:28.165793",
     "status": "completed"
    },
    "tags": []
   },
   "outputs": [
    {
     "data": {
      "image/png": "[encoded data removed]",
      "text/plain": [
       "<Figure size 1000x1000 with 1 Axes>"
      ]
     },
     "metadata": {},
     "output_type": "display_data"
    }
   ],
   "source": [
    "plt.figure(figsize=(10,10))\n",
    "colors = np.array([\"red\",\"green\",\"blue\",\"grey\",\"pink\"])\n",
    "sns.scatterplot(max_city, x=max_city.index, y='City',c=colors)  \n",
    "plt.show()"
   ]
  },
  {
   "cell_type": "markdown",
   "id": "e5f668fd",
   "metadata": {
    "papermill": {
     "duration": 0.018384,
     "end_time": "2023-08-22T11:22:28.568100",
     "exception": false,
     "start_time": "2023-08-22T11:22:28.549716",
     "status": "completed"
    },
    "tags": []
   },
   "source": [
    "**Q6. Which card type were mostly used by the Males and Females? Represent the comparison through graph**"
   ]
  },
  {
   "cell_type": "code",
   "execution_count": 17,
   "id": "9a6327a3",
   "metadata": {
    "execution": {
     "iopub.execute_input": "2023-08-22T11:22:28.604512Z",
     "iopub.status.busy": "2023-08-22T11:22:28.604048Z",
     "iopub.status.idle": "2023-08-22T11:22:28.626913Z",
     "shell.execute_reply": "2023-08-22T11:22:28.625844Z"
    },
    "papermill": {
     "duration": 0.043745,
     "end_time": "2023-08-22T11:22:28.629257",
     "exception": false,
     "start_time": "2023-08-22T11:22:28.585512",
     "status": "completed"
    },
    "tags": []
   },
   "outputs": [
    {
     "data": {
      "text/html": [
       "<div>\n",
       "<style scoped>\n",
       "    .dataframe tbody tr th:only-of-type {\n",
       "        vertical-align: middle;\n",
       "    }\n",
       "\n",
       "    .dataframe tbody tr th {\n",
       "        vertical-align: top;\n",
       "    }\n",
       "\n",
       "    .dataframe thead th {\n",
       "        text-align: right;\n",
       "    }\n",
       "</style>\n",
       "<table border=\"1\" class=\"dataframe\">\n",
       "  <thead>\n",
       "    <tr style=\"text-align: right;\">\n",
       "      <th></th>\n",
       "      <th></th>\n",
       "      <th>Card Type</th>\n",
       "    </tr>\n",
       "    <tr>\n",
       "      <th>Gender</th>\n",
       "      <th>Card Type</th>\n",
       "      <th></th>\n",
       "    </tr>\n",
       "  </thead>\n",
       "  <tbody>\n",
       "    <tr>\n",
       "      <th rowspan=\"4\" valign=\"top\">F</th>\n",
       "      <th>Silver</th>\n",
       "      <td>3773</td>\n",
       "    </tr>\n",
       "    <tr>\n",
       "      <th>Signature</th>\n",
       "      <td>3368</td>\n",
       "    </tr>\n",
       "    <tr>\n",
       "      <th>Gold</th>\n",
       "      <td>3287</td>\n",
       "    </tr>\n",
       "    <tr>\n",
       "      <th>Platinum</th>\n",
       "      <td>3252</td>\n",
       "    </tr>\n",
       "    <tr>\n",
       "      <th rowspan=\"4\" valign=\"top\">M</th>\n",
       "      <th>Platinum</th>\n",
       "      <td>3146</td>\n",
       "    </tr>\n",
       "    <tr>\n",
       "      <th>Gold</th>\n",
       "      <td>3080</td>\n",
       "    </tr>\n",
       "    <tr>\n",
       "      <th>Signature</th>\n",
       "      <td>3079</td>\n",
       "    </tr>\n",
       "    <tr>\n",
       "      <th>Silver</th>\n",
       "      <td>3067</td>\n",
       "    </tr>\n",
       "  </tbody>\n",
       "</table>\n",
       "</div>"
      ],
      "text/plain": [
       "                  Card Type\n",
       "Gender Card Type           \n",
       "F      Silver          3773\n",
       "       Signature       3368\n",
       "       Gold            3287\n",
       "       Platinum        3252\n",
       "M      Platinum        3146\n",
       "       Gold            3080\n",
       "       Signature       3079\n",
       "       Silver          3067"
      ]
     },
     "execution_count": 17,
     "metadata": {},
     "output_type": "execute_result"
    }
   ],
   "source": [
    "card_gen = pd.DataFrame(df.groupby('Gender')['Card Type'].value_counts())\n",
    "card_gen"
   ]
  },
  {
   "cell_type": "code",
   "execution_count": 18,
   "id": "cf1e04c9",
   "metadata": {
    "execution": {
     "iopub.execute_input": "2023-08-22T11:22:28.666483Z",
     "iopub.status.busy": "2023-08-22T11:22:28.665714Z",
     "iopub.status.idle": "2023-08-22T11:22:29.064886Z",
     "shell.execute_reply": "2023-08-22T11:22:29.064015Z"
    },
    "papermill": {
     "duration": 0.420537,
     "end_time": "2023-08-22T11:22:29.067140",
     "exception": false,
     "start_time": "2023-08-22T11:22:28.646603",
     "status": "completed"
    },
    "tags": []
   },
   "outputs": [
    {
     "data": {
      "image/png": "[encoded data removed]",
      "text/plain": [
       "<Figure size 800x600 with 1 Axes>"
      ]
     },
     "metadata": {},
     "output_type": "display_data"
    }
   ],
   "source": [
    "plt.figure(figsize=(8,6))\n",
    "sns.countplot(x=\"Card Type\",hue=\"Gender\",data=df,palette=[\"pink\",\"blue\"],edgecolor=\"black\")\n",
    "plt.show()"
   ]
  },
  {
   "cell_type": "markdown",
   "id": "99a5df40",
   "metadata": {
    "papermill": {
     "duration": 0.020202,
     "end_time": "2023-08-22T11:22:29.105994",
     "exception": false,
     "start_time": "2023-08-22T11:22:29.085792",
     "status": "completed"
    },
    "tags": []
   },
   "source": [
    "Answer: Females used the Silver card type where as Males have used the platinum card types more."
   ]
  },
  {
   "cell_type": "markdown",
   "id": "0ee532c5",
   "metadata": {
    "papermill": {
     "duration": 0.01733,
     "end_time": "2023-08-22T11:22:29.141063",
     "exception": false,
     "start_time": "2023-08-22T11:22:29.123733",
     "status": "completed"
    },
    "tags": []
   },
   "source": [
    "**Q7.Find out the expenses of credit card of Males and Females monthwise**"
   ]
  },
  {
   "cell_type": "code",
   "execution_count": 19,
   "id": "e17c988d",
   "metadata": {
    "execution": {
     "iopub.execute_input": "2023-08-22T11:22:29.178944Z",
     "iopub.status.busy": "2023-08-22T11:22:29.178148Z",
     "iopub.status.idle": "2023-08-22T11:22:29.195155Z",
     "shell.execute_reply": "2023-08-22T11:22:29.194295Z"
    },
    "papermill": {
     "duration": 0.038749,
     "end_time": "2023-08-22T11:22:29.197611",
     "exception": false,
     "start_time": "2023-08-22T11:22:29.158862",
     "status": "completed"
    },
    "tags": []
   },
   "outputs": [
    {
     "data": {
      "text/plain": [
       "Gender  Month    \n",
       "F       April        225640906\n",
       "        August       114659155\n",
       "        December     220813597\n",
       "        February     210401905\n",
       "        January      227700168\n",
       "        July         106087028\n",
       "        June         100563540\n",
       "        March        225659403\n",
       "        May          211850293\n",
       "        November     217110069\n",
       "        October      230188235\n",
       "        September    114636731\n",
       "M       April        190753828\n",
       "        August       103793971\n",
       "        December     196121818\n",
       "        February     173110719\n",
       "        January      203509388\n",
       "        July          91894388\n",
       "        June          90757499\n",
       "        March        184395043\n",
       "        May          163605316\n",
       "        November     186997899\n",
       "        October      189657772\n",
       "        September     94924702\n",
       "Name: Amount, dtype: int64"
      ]
     },
     "execution_count": 19,
     "metadata": {},
     "output_type": "execute_result"
    }
   ],
   "source": [
    "exp_m_g = df.groupby(['Gender','Month'])['Amount'].sum()\n",
    "exp_m_g"
   ]
  },
  {
   "cell_type": "code",
   "execution_count": 20,
   "id": "4a273af3",
   "metadata": {
    "execution": {
     "iopub.execute_input": "2023-08-22T11:22:29.236372Z",
     "iopub.status.busy": "2023-08-22T11:22:29.235683Z",
     "iopub.status.idle": "2023-08-22T11:22:31.106207Z",
     "shell.execute_reply": "2023-08-22T11:22:31.105031Z"
    },
    "papermill": {
     "duration": 1.892843,
     "end_time": "2023-08-22T11:22:31.108960",
     "exception": false,
     "start_time": "2023-08-22T11:22:29.216117",
     "status": "completed"
    },
    "tags": []
   },
   "outputs": [
    {
     "data": {
      "image/png": "[encoded data removed]",
      "text/plain": [
       "<Figure size 1400x800 with 1 Axes>"
      ]
     },
     "metadata": {},
     "output_type": "display_data"
    }
   ],
   "source": [
    "plt.figure(figsize=(14,8))\n",
    "sns.barplot(x=\"Gender\",y=\"Amount\",hue=\"Month\",data=df,edgecolor=\"black\")\n",
    "plt.show()"
   ]
  },
  {
   "cell_type": "code",
   "execution_count": 21,
   "id": "351edb97",
   "metadata": {
    "execution": {
     "iopub.execute_input": "2023-08-22T11:22:31.148633Z",
     "iopub.status.busy": "2023-08-22T11:22:31.148218Z",
     "iopub.status.idle": "2023-08-22T11:22:31.374778Z",
     "shell.execute_reply": "2023-08-22T11:22:31.373544Z"
    },
    "papermill": {
     "duration": 0.249637,
     "end_time": "2023-08-22T11:22:31.377578",
     "exception": false,
     "start_time": "2023-08-22T11:22:31.127941",
     "status": "completed"
    },
    "tags": []
   },
   "outputs": [],
   "source": [
    "df.to_csv(\"Credit Card Spending Habits.csv\")"
   ]
  },
  {
   "cell_type": "markdown",
   "id": "9397867e",
   "metadata": {
    "papermill": {
     "duration": 0.019074,
     "end_time": "2023-08-22T11:22:31.416503",
     "exception": false,
     "start_time": "2023-08-22T11:22:31.397429",
     "status": "completed"
    },
    "tags": []
   },
   "source": [
    "# <h1 style=\"color:black,text-align:center; background-color: #dddddd; border: 1px solid black; padding: 10px;\">Conclusion</h1>\n",
    "\n",
    "* Silver card types were most in the payments . \n",
    "* In Fuel and Food expenses were most counts paid by the cards.\n",
    "* In January and December there is high usage of cards payments.\n",
    "* Bengaluru,Greater Mumbai, Ahmedabad, Delhi These are the Top 4 Cities were card usage were more.\n",
    "* Females used the Silver card type were as male have used the platinum card types more.\n",
    "* Females were more depend on credit cards as they spend more amount on credit cards than men. \n",
    "* Females and Males mostly spend amount on Bills and Food using credit card.\n",
    "* Females mostly spend in October and Males in january using credit cards.\n"
   ]
  }
 ],
 "metadata": {
  "kernelspec": {
   "display_name": "Python 3",
   "language": "python",
   "name": "python3"
  },
  "language_info": {
   "codemirror_mode": {
    "name": "ipython",
    "version": 3
   },
   "file_extension": ".py",
   "mimetype": "text/x-python",
   "name": "python",
   "nbconvert_exporter": "python",
   "pygments_lexer": "ipython3",
   "version": "3.10.12"
  },
  "papermill": {
   "default_parameters": {},
   "duration": 21.415712,
   "end_time": "2023-08-22T11:22:32.457760",
   "environment_variables": {},
   "exception": null,
   "input_path": "__notebook__.ipynb",
   "output_path": "__notebook__.ipynb",
   "parameters": {},
   "start_time": "2023-08-22T11:22:11.042048",
   "version": "2.4.0"
  }
 },
 "nbformat": 4,
 "nbformat_minor": 5
}
